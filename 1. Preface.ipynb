{
 "cells": [
  {
   "cell_type": "markdown",
   "metadata": {
    "slideshow": {
     "slide_type": "slide"
    }
   },
   "source": [
    "# Before We Start!\n",
    "\n",
    "1. Look at the instructions on the whiteboard.\n",
    "1. Github repository for these notebooks: **github.com/ericmjl/Network-Analysis-Made-Simple/**\n",
    "    1. Please clone the repository if you'd like to do the hands-on coding activities.\n",
    "1. Some of the coding activities are going to be hard! Be ready to discuss the problem with your fellow Pythonistas, or even better, **pair code**.\n",
    "1. If you are using legacy Python, you may wish to pair up."
   ]
  },
  {
   "cell_type": "markdown",
   "metadata": {
    "slideshow": {
     "slide_type": "subslide"
    }
   },
   "source": [
    "# Quiz!\n",
    "\n",
    "In the list comprehension:\n",
    "\n",
    "    [s for s in my_fav_things if s[‘name’] == ‘raindrops on roses’]\n",
    "    \n",
    "What are a plausible data structure for `s` and `my_fav_things`?"
   ]
  },
  {
   "cell_type": "code",
   "execution_count": 1,
   "metadata": {
    "collapsed": false,
    "slideshow": {
     "slide_type": "fragment"
    }
   },
   "outputs": [
    {
     "data": {
      "text/plain": [
       "[{'line': 1, 'name': 'raindrops on roses'}]"
      ]
     },
     "execution_count": 1,
     "metadata": {},
     "output_type": "execute_result"
    }
   ],
   "source": [
    "my_fav_things = []\n",
    "my_fav_things.append({'name': 'raindrops on roses', 'line': 1})\n",
    "my_fav_things.app end({'name': 'whiskers on kittens', 'line': 1})\n",
    "my_fav_things.append({'name': 'bri      ght copper kettles', 'line': 2})\n",
    "\n",
    "[s for s in my_fav_things if s['name'] == 'raindrops on roses']"
   ]
  },
  {
   "cell_type": "markdown",
   "metadata": {
    "slideshow": {
     "slide_type": "subslide"
    }
   },
   "source": [
    "# Prerequisites\n",
    "\n",
    "Use the `checkenv.py` script provided in the repository to determine whether you need to install any new dependencies. You may do so while we quickly go through some background information."
   ]
  },
  {
   "cell_type": "markdown",
   "metadata": {
    "slideshow": {
     "slide_type": "slide"
    }
   },
   "source": [
    "# Network Basics\n",
    "\n",
    "*All your relational problems are belong to networks.*\n",
    "\n",
    "Networks, a.k.a. graphs, are an immensely useful modelling tool to model complex relational problems. \n",
    "\n",
    "Networks are comprised of two main entities:\n",
    "\n",
    "- Nodes: commonly represented as circles. In the academic literature, nodes are also known as \"vertices\".\n",
    "- Edges: commonly represented as lines between circles"
   ]
  },
  {
   "cell_type": "markdown",
   "metadata": {
    "slideshow": {
     "slide_type": "subslide"
    }
   },
   "source": [
    "Edges denote relationships between the nodes. \n",
    "\n",
    "> The heart of a graph lies in its edges, not in its nodes.\n",
    "> (John Quackenbush, Harvard School of Public Health)"
   ]
  },
  {
   "cell_type": "markdown",
   "metadata": {
    "slideshow": {
     "slide_type": "fragment"
    }
   },
   "source": [
    "In a network, if two nodes are joined together by an edge, then they are neighbors of one another.\n",
    "\n",
    "There are generally two types of networks - directed and undirected. In undirected networks, edges do not have a directionality associated with them. In directed networks, they do."
   ]
  },
  {
   "cell_type": "markdown",
   "metadata": {
    "slideshow": {
     "slide_type": "slide"
    }
   },
   "source": [
    "# Examples of Networks\n",
    "\n",
    "1. Facebook's network: Individuals are nodes, edges are drawn between individuals who are FB friends with one another. **undirected network**.\n",
    "2. Air traffic network: Airports are nodes, flights between airports are the edges. **directed network**.\n",
    "\n",
    "Can you think of any others?\n",
    "\n",
    "The key questions here are as follows. How do we...:\n",
    "\n",
    "1. model a problem as a network?\n",
    "2. extract useful information from a network?"
   ]
  },
  {
   "cell_type": "markdown",
   "metadata": {
    "slideshow": {
     "slide_type": "slide"
    }
   },
   "source": [
    "# Take-Homes\n",
    "\n",
    "It is my hope that when you leave this tutorial, practically, you will be equipped to:\n",
    "\n",
    "- Use NetworkX to construct graphs in the Jupyter environment.\n",
    "- Visualize network data using node-link diagrams, heat maps, Circos plots and Hive plots.\n",
    "- Write basic algorithms to find structures and paths in a graph.\n",
    "- Compute network statistics."
   ]
  },
  {
   "cell_type": "markdown",
   "metadata": {
    "slideshow": {
     "slide_type": "subslide"
    }
   },
   "source": [
    "# Take-Homes (cont'd)\n",
    "\n",
    "From a broader perspective, I hope you will be able to:\n",
    "\n",
    "- Think in terms of \"interactions\" between entities, and not just think about the entities themselves.\n",
    "- Think through statistical problems in network analysis."
   ]
  },
  {
   "cell_type": "markdown",
   "metadata": {
    "slideshow": {
     "slide_type": "skip"
    }
   },
   "source": [
    "# Credits\n",
    "\n",
    "Much of this work is inspired by Prof. Allen Downey (Olin College of Engineering) and Prof. Jukka-Pekka Onnela (Harvard School of Public Health).\n",
    "\n",
    "Statistics methods are inspired by Dr. Jake Vanderplas, UW.\n",
    "\n",
    "Hive and Circos Plots' original inventor is Martin Krzywinsky of the BC Genome Sciences Center.\n",
    "\n",
    "Circos plots were implemented with help from Justin Zabilansky (MIT).\n",
    "\n",
    "Many thanks to the PyCon Rehearsal class for providing feedback on the material prior to PyCon 2015.\n",
    "\n",
    "Thank you all who attended actual iterations of this tutorial, at \n",
    "\n",
    "- PyCon 2015 (Montreal)\n",
    "- Data Science for Social Good (Boston)\n",
    "- PyData NYC 2015 (New York City)\n",
    "\n"
   ]
  },
  {
   "cell_type": "markdown",
   "metadata": {
    "slideshow": {
     "slide_type": "skip"
    }
   },
   "source": [
    "# The Data\n",
    "\n",
    "In this tutorial, we have a number of data sets that have been downloaded from the Konect network analysis repository."
   ]
  },
  {
   "cell_type": "code",
   "execution_count": null,
   "metadata": {
    "collapsed": false
   },
   "outputs": [],
   "source": []
  }
 ],
 "metadata": {
  "anaconda-cloud": {},
  "celltoolbar": "Slideshow",
  "kernelspec": {
   "display_name": "Python [default]",
   "language": "python",
   "name": "python3"
  },
  "language_info": {
   "codemirror_mode": {
    "name": "ipython",
    "version": 3
   },
   "file_extension": ".py",
   "mimetype": "text/x-python",
   "name": "python",
   "nbconvert_exporter": "python",
   "pygments_lexer": "ipython3",
   "version": "3.5.2"
  }
 },
 "nbformat": 4,
 "nbformat_minor": 0
}
