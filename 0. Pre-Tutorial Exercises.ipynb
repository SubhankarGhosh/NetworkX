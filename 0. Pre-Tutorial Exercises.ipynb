{
 "cells": [
  {
   "cell_type": "markdown",
   "metadata": {
    "collapsed": true
   },
   "source": [
    "# Pre-Tutorial Exercises\n",
    "\n",
    "If you've arrived early for the tutorial, please feel free to attempt the following exercises to warm-up."
   ]
  },
  {
   "cell_type": "code",
   "execution_count": 3,
   "metadata": {
    "collapsed": true
   },
   "outputs": [],
   "source": [
    "# 1. Basic Python data structures\n",
    "# I have a list of dictionaries as such:\n",
    "\n",
    "names = [{'name': 'Eric',\n",
    "          'surname': 'Ma'},\n",
    "         {'name': 'Jeffrey',\n",
    "          'surname': 'Elmer'},\n",
    "         {'name': 'Mike',\n",
    "          'surname': 'Lee'},\n",
    "         {'name': 'Jennifer',\n",
    "          'surname': 'Elmer'}]\n",
    "\n",
    "# Write a function that takes in a list of dictionaries and a query surname, \n",
    "# and searches it for all individuals with a given surname.\n",
    "\n",
    "def find_persons_with_surname(persons, query_surname):\n",
    "    # Assert that the persons parameter is a list. \n",
    "    # This is a good defensive programming practice.\n",
    "    assert isinstance(persons, list)   \n",
    "    \n",
    "    results = []\n",
    "    for name in names:\n",
    "        if name['surname'] == query_surname:\n",
    "            results.append(name)\n",
    "    \n",
    "    return results"
   ]
  },
  {
   "cell_type": "code",
   "execution_count": 5,
   "metadata": {
    "collapsed": false
   },
   "outputs": [],
   "source": [
    "# Test your result below.\n",
    "results = find_persons_with_surname(names, 'Lee')\n",
    "assert len(results) == 1\n",
    "\n",
    "results = find_persons_with_surname(names, 'Elmer')\n",
    "assert len(results) == 2"
   ]
  },
  {
   "cell_type": "code",
   "execution_count": 6,
   "metadata": {
    "collapsed": false
   },
   "outputs": [
    {
     "ename": "AssertionError",
     "evalue": "",
     "output_type": "error",
     "traceback": [
      "\u001b[0;31m---------------------------------------------------------------------------\u001b[0m",
      "\u001b[0;31mAssertionError\u001b[0m                            Traceback (most recent call last)",
      "\u001b[0;32m<ipython-input-6-89c1f093e9b0>\u001b[0m in \u001b[0;36m<module>\u001b[0;34m()\u001b[0m\n\u001b[1;32m      1\u001b[0m \u001b[0mresults\u001b[0m \u001b[1;33m=\u001b[0m \u001b[0mfind_persons_with_surname\u001b[0m\u001b[1;33m(\u001b[0m\u001b[0mnames\u001b[0m\u001b[1;33m,\u001b[0m \u001b[1;34m'Ma'\u001b[0m\u001b[1;33m)\u001b[0m\u001b[1;33m\u001b[0m\u001b[0m\n\u001b[0;32m----> 2\u001b[0;31m \u001b[1;32massert\u001b[0m \u001b[0mlen\u001b[0m\u001b[1;33m(\u001b[0m\u001b[0mresults\u001b[0m\u001b[1;33m)\u001b[0m \u001b[1;33m==\u001b[0m \u001b[1;36m3\u001b[0m\u001b[1;33m\u001b[0m\u001b[0m\n\u001b[0m",
      "\u001b[0;31mAssertionError\u001b[0m: "
     ]
    }
   ],
   "source": [
    "results = find_persons_with_surname(names, 'Ma')\n",
    "assert len(results) == 3"
   ]
  },
  {
   "cell_type": "markdown",
   "metadata": {},
   "source": [
    "# https://www.tutorialspoint.com/python/assertions_in_python.htm"
   ]
  },
  {
   "cell_type": "code",
   "execution_count": 8,
   "metadata": {
    "collapsed": false
   },
   "outputs": [
    {
     "name": "stdout",
     "output_type": "stream",
     "text": [
      "[0, 2, 2, 0, 4, 2, 4, 4, 4, 0, 5, 5, 2, 4, 5, 4, 5, 2, 2, 4, 4, 0, 4, 3, 5, 1, 4, 3, 5, 3, 1, 1, 3, 1, 2, 1, 1, 3, 5, 3, 4, 4, 2, 1, 2, 3, 0, 3, 5, 4, 0, 5, 1, 5, 0, 3, 4, 5, 4, 2, 0, 3, 4, 2, 0, 4, 5, 5, 1, 2, 4, 5, 5, 2, 2, 2, 0, 5, 5, 4, 2, 3, 0, 2, 3, 4, 3, 0, 1, 3, 5, 0, 0, 4, 0, 1, 5, 2, 2, 3]\n"
     ]
    }
   ],
   "source": [
    "import random\n",
    "lst = list()\n",
    "#random.seed(9001)\n",
    "for i in range(100):\n",
    "    #temp = random.randint(0,10000)\n",
    "    #random.seed(temp)\n",
    "    lst.append(random.randint(0,5))\n",
    "print(lst)"
   ]
  },
  {
   "cell_type": "code",
   "execution_count": null,
   "metadata": {
    "collapsed": true
   },
   "outputs": [],
   "source": []
  }
 ],
 "metadata": {
  "anaconda-cloud": {},
  "kernelspec": {
   "display_name": "Python [default]",
   "language": "python",
   "name": "python3"
  },
  "language_info": {
   "codemirror_mode": {
    "name": "ipython",
    "version": 3
   },
   "file_extension": ".py",
   "mimetype": "text/x-python",
   "name": "python",
   "nbconvert_exporter": "python",
   "pygments_lexer": "ipython3",
   "version": "3.5.2"
  }
 },
 "nbformat": 4,
 "nbformat_minor": 0
}
