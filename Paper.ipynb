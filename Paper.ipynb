{
 "cells": [
  {
   "cell_type": "code",
   "execution_count": 1,
   "metadata": {
    "collapsed": true
   },
   "outputs": [],
   "source": [
    "import networkx as nx\n",
    "import matplotlib.pyplot as plt\n",
    "import numpy as np\n",
    "import warnings\n",
    "from custom import custom_funcs as cf\n",
    "from datetime import datetime\n",
    "\n",
    "warnings.filterwarnings('ignore')\n",
    "\n",
    "%load_ext autoreload\n",
    "%autoreload 2\n",
    "%matplotlib inline"
   ]
  },
  {
   "cell_type": "code",
   "execution_count": 2,
   "metadata": {
    "collapsed": true
   },
   "outputs": [],
   "source": [
    "G = cf.load_seventh_grader_network()"
   ]
  },
  {
   "cell_type": "code",
   "execution_count": 3,
   "metadata": {
    "collapsed": false
   },
   "outputs": [
    {
     "data": {
      "text/plain": [
       "[(1, {'gender': 'male'}),\n",
       " (2, {'gender': 'male'}),\n",
       " (3, {'gender': 'male'}),\n",
       " (4, {'gender': 'male'}),\n",
       " (5, {'gender': 'male'}),\n",
       " (6, {'gender': 'male'}),\n",
       " (7, {'gender': 'male'}),\n",
       " (8, {'gender': 'female'}),\n",
       " (9, {'gender': 'female'}),\n",
       " (10, {'gender': 'female'}),\n",
       " (11, {'gender': 'female'}),\n",
       " (12, {'gender': 'female'}),\n",
       " (13, {'gender': 'female'}),\n",
       " (14, {'gender': 'female'}),\n",
       " (15, {'gender': 'female'}),\n",
       " (16, {'gender': 'male'}),\n",
       " (17, {'gender': 'male'}),\n",
       " (18, {'gender': 'male'}),\n",
       " (19, {'gender': 'male'}),\n",
       " (20, {'gender': 'female'}),\n",
       " (21, {'gender': 'female'}),\n",
       " (22, {'gender': 'male'}),\n",
       " (23, {'gender': 'female'}),\n",
       " (24, {'gender': 'female'}),\n",
       " (25, {'gender': 'female'}),\n",
       " (26, {'gender': 'female'}),\n",
       " (27, {'gender': 'female'}),\n",
       " (28, {'gender': 'female'}),\n",
       " (29, {'gender': 'female'})]"
      ]
     },
     "execution_count": 3,
     "metadata": {},
     "output_type": "execute_result"
    }
   ],
   "source": [
    "G.nodes(data=True)"
   ]
  },
  {
   "cell_type": "code",
   "execution_count": 4,
   "metadata": {
    "collapsed": false
   },
   "outputs": [
    {
     "name": "stdout",
     "output_type": "stream",
     "text": [
      "29\n"
     ]
    }
   ],
   "source": [
    "print(len(G.nodes()))"
   ]
  },
  {
   "cell_type": "code",
   "execution_count": 5,
   "metadata": {
    "collapsed": false
   },
   "outputs": [
    {
     "data": {
      "text/plain": [
       "[(1, 2, {'count': 1}),\n",
       " (1, 3, {'count': 1}),\n",
       " (1, 4, {'count': 2}),\n",
       " (1, 5, {'count': 2}),\n",
       " (1, 6, {'count': 3}),\n",
       " (1, 7, {'count': 3}),\n",
       " (1, 8, {'count': 2}),\n",
       " (1, 9, {'count': 2}),\n",
       " (1, 10, {'count': 1}),\n",
       " (1, 11, {'count': 1}),\n",
       " (1, 12, {'count': 1}),\n",
       " (1, 13, {'count': 1}),\n",
       " (1, 14, {'count': 1}),\n",
       " (1, 15, {'count': 1}),\n",
       " (2, 1, {'count': 1}),\n",
       " (2, 3, {'count': 3}),\n",
       " (2, 4, {'count': 3}),\n",
       " (2, 5, {'count': 3}),\n",
       " (2, 6, {'count': 2}),\n",
       " (2, 8, {'count': 1}),\n",
       " (2, 9, {'count': 3}),\n",
       " (2, 11, {'count': 1}),\n",
       " (2, 12, {'count': 3}),\n",
       " (2, 16, {'count': 1}),\n",
       " (2, 17, {'count': 1}),\n",
       " (2, 18, {'count': 1}),\n",
       " (2, 19, {'count': 3}),\n",
       " (2, 20, {'count': 3}),\n",
       " (2, 21, {'count': 1}),\n",
       " (3, 1, {'count': 1}),\n",
       " (3, 2, {'count': 3}),\n",
       " (3, 4, {'count': 3}),\n",
       " (3, 5, {'count': 3}),\n",
       " (3, 6, {'count': 3}),\n",
       " (3, 8, {'count': 1}),\n",
       " (3, 9, {'count': 3}),\n",
       " (3, 11, {'count': 3}),\n",
       " (3, 12, {'count': 3}),\n",
       " (3, 13, {'count': 1}),\n",
       " (3, 15, {'count': 1}),\n",
       " (3, 19, {'count': 2}),\n",
       " (3, 20, {'count': 3}),\n",
       " (3, 21, {'count': 1}),\n",
       " (3, 23, {'count': 1}),\n",
       " (3, 24, {'count': 2}),\n",
       " (3, 25, {'count': 1}),\n",
       " (4, 1, {'count': 3}),\n",
       " (4, 2, {'count': 3}),\n",
       " (4, 3, {'count': 3}),\n",
       " (4, 5, {'count': 3}),\n",
       " (4, 6, {'count': 3}),\n",
       " (4, 7, {'count': 2}),\n",
       " (4, 8, {'count': 1}),\n",
       " (4, 9, {'count': 1}),\n",
       " (4, 10, {'count': 1}),\n",
       " (4, 11, {'count': 1}),\n",
       " (4, 12, {'count': 2}),\n",
       " (4, 13, {'count': 2}),\n",
       " (4, 14, {'count': 2}),\n",
       " (4, 15, {'count': 2}),\n",
       " (4, 16, {'count': 3}),\n",
       " (4, 17, {'count': 3}),\n",
       " (4, 18, {'count': 1}),\n",
       " (4, 19, {'count': 2}),\n",
       " (4, 20, {'count': 1}),\n",
       " (4, 21, {'count': 2}),\n",
       " (4, 23, {'count': 2}),\n",
       " (4, 25, {'count': 2}),\n",
       " (4, 26, {'count': 2}),\n",
       " (5, 1, {'count': 3}),\n",
       " (5, 2, {'count': 3}),\n",
       " (5, 3, {'count': 3}),\n",
       " (5, 4, {'count': 3}),\n",
       " (5, 6, {'count': 3}),\n",
       " (5, 7, {'count': 3}),\n",
       " (5, 8, {'count': 3}),\n",
       " (5, 9, {'count': 3}),\n",
       " (5, 10, {'count': 3}),\n",
       " (5, 11, {'count': 2}),\n",
       " (5, 12, {'count': 3}),\n",
       " (5, 13, {'count': 3}),\n",
       " (5, 14, {'count': 1}),\n",
       " (5, 15, {'count': 2}),\n",
       " (5, 16, {'count': 3}),\n",
       " (5, 17, {'count': 3}),\n",
       " (5, 18, {'count': 3}),\n",
       " (5, 19, {'count': 3}),\n",
       " (5, 20, {'count': 2}),\n",
       " (5, 21, {'count': 3}),\n",
       " (5, 23, {'count': 2}),\n",
       " (5, 24, {'count': 2}),\n",
       " (5, 25, {'count': 2}),\n",
       " (5, 26, {'count': 3}),\n",
       " (5, 27, {'count': 2}),\n",
       " (5, 28, {'count': 1}),\n",
       " (5, 29, {'count': 1}),\n",
       " (6, 1, {'count': 3}),\n",
       " (6, 2, {'count': 3}),\n",
       " (6, 3, {'count': 3}),\n",
       " (6, 4, {'count': 3}),\n",
       " (6, 5, {'count': 3}),\n",
       " (6, 7, {'count': 3}),\n",
       " (6, 8, {'count': 3}),\n",
       " (6, 9, {'count': 3}),\n",
       " (6, 10, {'count': 1}),\n",
       " (6, 11, {'count': 2}),\n",
       " (6, 12, {'count': 3}),\n",
       " (6, 13, {'count': 3}),\n",
       " (6, 14, {'count': 1}),\n",
       " (6, 15, {'count': 1}),\n",
       " (6, 16, {'count': 3}),\n",
       " (6, 17, {'count': 3}),\n",
       " (6, 18, {'count': 3}),\n",
       " (6, 19, {'count': 3}),\n",
       " (6, 20, {'count': 1}),\n",
       " (6, 21, {'count': 3}),\n",
       " (6, 23, {'count': 2}),\n",
       " (6, 24, {'count': 1}),\n",
       " (6, 25, {'count': 1}),\n",
       " (6, 26, {'count': 1}),\n",
       " (6, 27, {'count': 2}),\n",
       " (6, 28, {'count': 1}),\n",
       " (6, 29, {'count': 1}),\n",
       " (7, 1, {'count': 3}),\n",
       " (7, 2, {'count': 1}),\n",
       " (7, 3, {'count': 2}),\n",
       " (7, 4, {'count': 2}),\n",
       " (7, 5, {'count': 2}),\n",
       " (7, 6, {'count': 3}),\n",
       " (7, 8, {'count': 2}),\n",
       " (7, 9, {'count': 2}),\n",
       " (7, 10, {'count': 1}),\n",
       " (7, 13, {'count': 1}),\n",
       " (7, 16, {'count': 1}),\n",
       " (7, 20, {'count': 1}),\n",
       " (8, 2, {'count': 1}),\n",
       " (8, 3, {'count': 1}),\n",
       " (8, 6, {'count': 1}),\n",
       " (8, 9, {'count': 2}),\n",
       " (8, 10, {'count': 2}),\n",
       " (8, 11, {'count': 3}),\n",
       " (8, 12, {'count': 3}),\n",
       " (8, 13, {'count': 3}),\n",
       " (8, 14, {'count': 3}),\n",
       " (8, 15, {'count': 3}),\n",
       " (8, 20, {'count': 2}),\n",
       " (8, 21, {'count': 3}),\n",
       " (8, 23, {'count': 3}),\n",
       " (8, 26, {'count': 2}),\n",
       " (9, 1, {'count': 1}),\n",
       " (9, 2, {'count': 1}),\n",
       " (9, 3, {'count': 1}),\n",
       " (9, 6, {'count': 1}),\n",
       " (9, 7, {'count': 1}),\n",
       " (9, 8, {'count': 3}),\n",
       " (9, 10, {'count': 2}),\n",
       " (9, 11, {'count': 1}),\n",
       " (9, 12, {'count': 3}),\n",
       " (9, 13, {'count': 3}),\n",
       " (9, 14, {'count': 1}),\n",
       " (9, 19, {'count': 1}),\n",
       " (9, 20, {'count': 3}),\n",
       " (9, 21, {'count': 3}),\n",
       " (9, 23, {'count': 2}),\n",
       " (9, 26, {'count': 1}),\n",
       " (10, 1, {'count': 1}),\n",
       " (10, 6, {'count': 1}),\n",
       " (10, 7, {'count': 1}),\n",
       " (10, 8, {'count': 1}),\n",
       " (10, 9, {'count': 1}),\n",
       " (10, 11, {'count': 1}),\n",
       " (10, 14, {'count': 1}),\n",
       " (10, 20, {'count': 1}),\n",
       " (10, 24, {'count': 1}),\n",
       " (10, 25, {'count': 2}),\n",
       " (10, 26, {'count': 3}),\n",
       " (10, 27, {'count': 1}),\n",
       " (11, 8, {'count': 3}),\n",
       " (11, 9, {'count': 2}),\n",
       " (11, 10, {'count': 1}),\n",
       " (11, 12, {'count': 3}),\n",
       " (11, 13, {'count': 3}),\n",
       " (11, 14, {'count': 1}),\n",
       " (11, 15, {'count': 2}),\n",
       " (11, 20, {'count': 2}),\n",
       " (11, 21, {'count': 3}),\n",
       " (11, 23, {'count': 3}),\n",
       " (11, 24, {'count': 1}),\n",
       " (11, 25, {'count': 1}),\n",
       " (11, 26, {'count': 3}),\n",
       " (11, 28, {'count': 1}),\n",
       " (12, 1, {'count': 1}),\n",
       " (12, 2, {'count': 1}),\n",
       " (12, 3, {'count': 1}),\n",
       " (12, 21, {'count': 3}),\n",
       " (12, 6, {'count': 1}),\n",
       " (12, 23, {'count': 3}),\n",
       " (12, 8, {'count': 3}),\n",
       " (12, 9, {'count': 3}),\n",
       " (12, 11, {'count': 3}),\n",
       " (12, 13, {'count': 3}),\n",
       " (13, 2, {'count': 1}),\n",
       " (13, 3, {'count': 1}),\n",
       " (13, 6, {'count': 1}),\n",
       " (13, 8, {'count': 3}),\n",
       " (13, 9, {'count': 2}),\n",
       " (13, 11, {'count': 3}),\n",
       " (13, 12, {'count': 3}),\n",
       " (13, 14, {'count': 3}),\n",
       " (13, 15, {'count': 3}),\n",
       " (13, 20, {'count': 3}),\n",
       " (13, 21, {'count': 3}),\n",
       " (13, 23, {'count': 3}),\n",
       " (13, 25, {'count': 1}),\n",
       " (14, 20, {'count': 1}),\n",
       " (14, 21, {'count': 3}),\n",
       " (14, 23, {'count': 1}),\n",
       " (14, 8, {'count': 1}),\n",
       " (14, 9, {'count': 1}),\n",
       " (14, 11, {'count': 1}),\n",
       " (14, 13, {'count': 3}),\n",
       " (14, 15, {'count': 3}),\n",
       " (15, 24, {'count': 1}),\n",
       " (15, 21, {'count': 1}),\n",
       " (15, 8, {'count': 1}),\n",
       " (15, 25, {'count': 1}),\n",
       " (15, 10, {'count': 2}),\n",
       " (15, 11, {'count': 1}),\n",
       " (15, 12, {'count': 1}),\n",
       " (15, 13, {'count': 1}),\n",
       " (15, 14, {'count': 3}),\n",
       " (16, 17, {'count': 3}),\n",
       " (16, 18, {'count': 3}),\n",
       " (16, 6, {'count': 3}),\n",
       " (16, 5, {'count': 2}),\n",
       " (16, 22, {'count': 1}),\n",
       " (17, 16, {'count': 3}),\n",
       " (17, 19, {'count': 2}),\n",
       " (17, 2, {'count': 1}),\n",
       " (17, 3, {'count': 1}),\n",
       " (17, 4, {'count': 1}),\n",
       " (17, 18, {'count': 1}),\n",
       " (18, 16, {'count': 3}),\n",
       " (19, 2, {'count': 3}),\n",
       " (19, 3, {'count': 3}),\n",
       " (19, 5, {'count': 1}),\n",
       " (19, 6, {'count': 1}),\n",
       " (19, 7, {'count': 1}),\n",
       " (19, 22, {'count': 1}),\n",
       " (20, 3, {'count': 1}),\n",
       " (20, 8, {'count': 2}),\n",
       " (20, 9, {'count': 3}),\n",
       " (20, 11, {'count': 2}),\n",
       " (20, 12, {'count': 3}),\n",
       " (20, 13, {'count': 2}),\n",
       " (20, 14, {'count': 1}),\n",
       " (20, 15, {'count': 1}),\n",
       " (20, 21, {'count': 2}),\n",
       " (20, 23, {'count': 2}),\n",
       " (20, 24, {'count': 1}),\n",
       " (20, 25, {'count': 1}),\n",
       " (20, 26, {'count': 2}),\n",
       " (21, 2, {'count': 1}),\n",
       " (21, 3, {'count': 1}),\n",
       " (21, 6, {'count': 1}),\n",
       " (21, 8, {'count': 3}),\n",
       " (21, 9, {'count': 3}),\n",
       " (21, 11, {'count': 3}),\n",
       " (21, 12, {'count': 3}),\n",
       " (21, 13, {'count': 3}),\n",
       " (21, 14, {'count': 1}),\n",
       " (21, 15, {'count': 3}),\n",
       " (21, 20, {'count': 3}),\n",
       " (21, 23, {'count': 3}),\n",
       " (21, 26, {'count': 1}),\n",
       " (21, 27, {'count': 1}),\n",
       " (21, 29, {'count': 1}),\n",
       " (22, 1, {'count': 2}),\n",
       " (22, 2, {'count': 2}),\n",
       " (22, 5, {'count': 3}),\n",
       " (22, 6, {'count': 3}),\n",
       " (22, 7, {'count': 1}),\n",
       " (22, 8, {'count': 1}),\n",
       " (22, 9, {'count': 2}),\n",
       " (22, 10, {'count': 1}),\n",
       " (22, 11, {'count': 1}),\n",
       " (22, 14, {'count': 3}),\n",
       " (22, 16, {'count': 2}),\n",
       " (22, 17, {'count': 1}),\n",
       " (22, 18, {'count': 1}),\n",
       " (22, 23, {'count': 2}),\n",
       " (22, 24, {'count': 1}),\n",
       " (22, 25, {'count': 1}),\n",
       " (22, 26, {'count': 1}),\n",
       " (22, 28, {'count': 1}),\n",
       " (22, 29, {'count': 1}),\n",
       " (23, 8, {'count': 3}),\n",
       " (23, 9, {'count': 3}),\n",
       " (23, 11, {'count': 3}),\n",
       " (23, 12, {'count': 3}),\n",
       " (23, 13, {'count': 3}),\n",
       " (23, 14, {'count': 1}),\n",
       " (23, 15, {'count': 1}),\n",
       " (23, 20, {'count': 3}),\n",
       " (23, 21, {'count': 3}),\n",
       " (23, 25, {'count': 1}),\n",
       " (23, 26, {'count': 1}),\n",
       " (23, 29, {'count': 1}),\n",
       " (24, 2, {'count': 1}),\n",
       " (24, 3, {'count': 1}),\n",
       " (24, 5, {'count': 1}),\n",
       " (24, 7, {'count': 1}),\n",
       " (24, 10, {'count': 1}),\n",
       " (24, 12, {'count': 1}),\n",
       " (24, 14, {'count': 2}),\n",
       " (24, 15, {'count': 2}),\n",
       " (24, 17, {'count': 1}),\n",
       " (24, 20, {'count': 3}),\n",
       " (24, 21, {'count': 1}),\n",
       " (24, 22, {'count': 2}),\n",
       " (24, 23, {'count': 3}),\n",
       " (24, 25, {'count': 3}),\n",
       " (24, 26, {'count': 3}),\n",
       " (24, 27, {'count': 3}),\n",
       " (25, 17, {'count': 1}),\n",
       " (25, 2, {'count': 1}),\n",
       " (25, 5, {'count': 1}),\n",
       " (25, 22, {'count': 1}),\n",
       " (25, 23, {'count': 3}),\n",
       " (25, 24, {'count': 3}),\n",
       " (25, 10, {'count': 1}),\n",
       " (25, 27, {'count': 3}),\n",
       " (25, 26, {'count': 3}),\n",
       " (25, 14, {'count': 1}),\n",
       " (25, 15, {'count': 3}),\n",
       " (26, 8, {'count': 2}),\n",
       " (26, 9, {'count': 2}),\n",
       " (26, 10, {'count': 3}),\n",
       " (26, 11, {'count': 3}),\n",
       " (26, 12, {'count': 1}),\n",
       " (26, 13, {'count': 1}),\n",
       " (26, 14, {'count': 3}),\n",
       " (26, 15, {'count': 3}),\n",
       " (26, 20, {'count': 3}),\n",
       " (26, 21, {'count': 1}),\n",
       " (26, 23, {'count': 2}),\n",
       " (26, 24, {'count': 2}),\n",
       " (26, 25, {'count': 3}),\n",
       " (26, 27, {'count': 1}),\n",
       " (26, 28, {'count': 1}),\n",
       " (26, 29, {'count': 1}),\n",
       " (27, 8, {'count': 3}),\n",
       " (27, 9, {'count': 2}),\n",
       " (27, 10, {'count': 1}),\n",
       " (27, 11, {'count': 1}),\n",
       " (27, 12, {'count': 3}),\n",
       " (27, 13, {'count': 3}),\n",
       " (27, 14, {'count': 1}),\n",
       " (27, 15, {'count': 1}),\n",
       " (27, 20, {'count': 2}),\n",
       " (27, 21, {'count': 3}),\n",
       " (27, 23, {'count': 3}),\n",
       " (27, 25, {'count': 2}),\n",
       " (27, 26, {'count': 2}),\n",
       " (27, 28, {'count': 3}),\n",
       " (27, 29, {'count': 3}),\n",
       " (28, 9, {'count': 1}),\n",
       " (28, 27, {'count': 2}),\n",
       " (28, 5, {'count': 1}),\n",
       " (28, 22, {'count': 1}),\n",
       " (28, 29, {'count': 3}),\n",
       " (29, 6, {'count': 1}),\n",
       " (29, 27, {'count': 2}),\n",
       " (29, 28, {'count': 3}),\n",
       " (29, 5, {'count': 1}),\n",
       " (29, 22, {'count': 1})]"
      ]
     },
     "execution_count": 5,
     "metadata": {},
     "output_type": "execute_result"
    }
   ],
   "source": [
    "G.edges(data=True)"
   ]
  },
  {
   "cell_type": "code",
   "execution_count": 6,
   "metadata": {
    "collapsed": false
   },
   "outputs": [
    {
     "data": {
      "text/plain": [
       "{'gender': 'male'}"
      ]
     },
     "execution_count": 6,
     "metadata": {},
     "output_type": "execute_result"
    }
   ],
   "source": [
    "G.node[1]"
   ]
  },
  {
   "cell_type": "code",
   "execution_count": 7,
   "metadata": {
    "collapsed": false
   },
   "outputs": [
    {
     "data": {
      "text/plain": [
       "{'gender': 'female'}"
      ]
     },
     "execution_count": 7,
     "metadata": {},
     "output_type": "execute_result"
    }
   ],
   "source": [
    "G.node[21]"
   ]
  },
  {
   "cell_type": "code",
   "execution_count": 8,
   "metadata": {
    "collapsed": true
   },
   "outputs": [],
   "source": [
    "#for n in G.nodes():\n",
    "#    del G.node[n]"
   ]
  },
  {
   "cell_type": "code",
   "execution_count": 9,
   "metadata": {
    "collapsed": false
   },
   "outputs": [
    {
     "data": {
      "text/plain": [
       "[(1, {'gender': 'male'}),\n",
       " (2, {'gender': 'male'}),\n",
       " (3, {'gender': 'male'}),\n",
       " (4, {'gender': 'male'}),\n",
       " (5, {'gender': 'male'}),\n",
       " (6, {'gender': 'male'}),\n",
       " (7, {'gender': 'male'}),\n",
       " (8, {'gender': 'female'}),\n",
       " (9, {'gender': 'female'}),\n",
       " (10, {'gender': 'female'}),\n",
       " (11, {'gender': 'female'}),\n",
       " (12, {'gender': 'female'}),\n",
       " (13, {'gender': 'female'}),\n",
       " (14, {'gender': 'female'}),\n",
       " (15, {'gender': 'female'}),\n",
       " (16, {'gender': 'male'}),\n",
       " (17, {'gender': 'male'}),\n",
       " (18, {'gender': 'male'}),\n",
       " (19, {'gender': 'male'}),\n",
       " (20, {'gender': 'female'}),\n",
       " (21, {'gender': 'female'}),\n",
       " (22, {'gender': 'male'}),\n",
       " (23, {'gender': 'female'}),\n",
       " (24, {'gender': 'female'}),\n",
       " (25, {'gender': 'female'}),\n",
       " (26, {'gender': 'female'}),\n",
       " (27, {'gender': 'female'}),\n",
       " (28, {'gender': 'female'}),\n",
       " (29, {'gender': 'female'})]"
      ]
     },
     "execution_count": 9,
     "metadata": {},
     "output_type": "execute_result"
    }
   ],
   "source": [
    "G.nodes(data=True)"
   ]
  },
  {
   "cell_type": "code",
   "execution_count": 10,
   "metadata": {
    "collapsed": false
   },
   "outputs": [
    {
     "data": {
      "text/plain": [
       "'female'"
      ]
     },
     "execution_count": 10,
     "metadata": {},
     "output_type": "execute_result"
    }
   ],
   "source": [
    "G.node[21]['gender']"
   ]
  },
  {
   "cell_type": "code",
   "execution_count": 11,
   "metadata": {
    "collapsed": true
   },
   "outputs": [],
   "source": [
    "#del G.node[21]['gender']"
   ]
  },
  {
   "cell_type": "code",
   "execution_count": 12,
   "metadata": {
    "collapsed": false
   },
   "outputs": [
    {
     "data": {
      "text/plain": [
       "{}"
      ]
     },
     "execution_count": 12,
     "metadata": {},
     "output_type": "execute_result"
    }
   ],
   "source": [
    "#G.node[21]"
   ]
  },
  {
   "cell_type": "code",
   "execution_count": 13,
   "metadata": {
    "collapsed": false
   },
   "outputs": [
    {
     "data": {
      "text/plain": [
       "[(1, {'gender': 'male'}),\n",
       " (2, {'gender': 'male'}),\n",
       " (3, {'gender': 'male'}),\n",
       " (4, {'gender': 'male'}),\n",
       " (5, {'gender': 'male'}),\n",
       " (6, {'gender': 'male'}),\n",
       " (7, {'gender': 'male'}),\n",
       " (8, {'gender': 'female'}),\n",
       " (9, {'gender': 'female'}),\n",
       " (10, {'gender': 'female'}),\n",
       " (11, {'gender': 'female'}),\n",
       " (12, {'gender': 'female'}),\n",
       " (13, {'gender': 'female'}),\n",
       " (14, {'gender': 'female'}),\n",
       " (15, {'gender': 'female'}),\n",
       " (16, {'gender': 'male'}),\n",
       " (17, {'gender': 'male'}),\n",
       " (18, {'gender': 'male'}),\n",
       " (19, {'gender': 'male'}),\n",
       " (20, {'gender': 'female'}),\n",
       " (21, {}),\n",
       " (22, {'gender': 'male'}),\n",
       " (23, {'gender': 'female'}),\n",
       " (24, {'gender': 'female'}),\n",
       " (25, {'gender': 'female'}),\n",
       " (26, {'gender': 'female'}),\n",
       " (27, {'gender': 'female'}),\n",
       " (28, {'gender': 'female'}),\n",
       " (29, {'gender': 'female'})]"
      ]
     },
     "execution_count": 13,
     "metadata": {},
     "output_type": "execute_result"
    }
   ],
   "source": [
    "#G.nodes(data=True)"
   ]
  },
  {
   "cell_type": "code",
   "execution_count": 11,
   "metadata": {
    "collapsed": false
   },
   "outputs": [
    {
     "name": "stdout",
     "output_type": "stream",
     "text": [
      "dict_items([(1, {'gender': 'male'}), (2, {'gender': 'male'}), (3, {'gender': 'male'}), (4, {'gender': 'male'}), (5, {'gender': 'male'}), (6, {'gender': 'male'}), (7, {'gender': 'male'}), (8, {'gender': 'female'}), (9, {'gender': 'female'}), (10, {'gender': 'female'}), (11, {'gender': 'female'}), (12, {'gender': 'female'}), (13, {'gender': 'female'}), (14, {'gender': 'female'}), (15, {'gender': 'female'}), (16, {'gender': 'male'}), (17, {'gender': 'male'}), (18, {'gender': 'male'}), (19, {'gender': 'male'}), (20, {'gender': 'female'}), (21, {'gender': 'female'}), (22, {'gender': 'male'}), (23, {'gender': 'female'}), (24, {'gender': 'female'}), (25, {'gender': 'female'}), (26, {'gender': 'female'}), (27, {'gender': 'female'}), (28, {'gender': 'female'}), (29, {'gender': 'female'})])\n",
      "dict_items([(1, {'gender': 'male'}), (2, {'gender': 'male'}), (3, {'gender': 'male'}), (4, {'gender': 'male'}), (5, {'gender': 'male'}), (6, {'gender': 'male'}), (7, {'gender': 'male'}), (8, {'gender': 'female'}), (9, {'gender': 'female'}), (10, {'gender': 'female'}), (11, {'gender': 'female'}), (12, {'gender': 'female'}), (13, {'gender': 'female'}), (14, {'gender': 'female'}), (15, {'gender': 'female'}), (16, {'gender': 'male'}), (17, {'gender': 'male'}), (18, {'gender': 'male'}), (19, {'gender': 'male'}), (20, {'gender': 'female'}), (21, {'gender': 'female'}), (22, {'gender': 'male'}), (23, {'gender': 'female'}), (24, {'gender': 'female'}), (25, {'gender': 'female'}), (26, {'gender': 'female'}), (27, {'gender': 'female'}), (28, {'gender': 'female'}), (29, {'gender': 'female'})])\n",
      "dict_items([(1, {'gender': 'male'}), (2, {'gender': 'male'}), (3, {'gender': 'male'}), (4, {'gender': 'male'}), (5, {'gender': 'male'}), (6, {'gender': 'male'}), (7, {'gender': 'male'}), (8, {'gender': 'female'}), (9, {'gender': 'female'}), (10, {'gender': 'female'}), (11, {'gender': 'female'}), (12, {'gender': 'female'}), (13, {'gender': 'female'}), (14, {'gender': 'female'}), (15, {'gender': 'female'}), (16, {'gender': 'male'}), (17, {'gender': 'male'}), (18, {'gender': 'male'}), (19, {'gender': 'male'}), (20, {'gender': 'female'}), (21, {'gender': 'female'}), (22, {'gender': 'male'}), (23, {'gender': 'female'}), (24, {'gender': 'female'}), (25, {'gender': 'female'}), (26, {'gender': 'female'}), (27, {'gender': 'female'}), (28, {'gender': 'female'}), (29, {'gender': 'female'})])\n",
      "dict_items([(1, {'gender': 'male'}), (2, {'gender': 'male'}), (3, {'gender': 'male'}), (4, {'gender': 'male'}), (5, {'gender': 'male'}), (6, {'gender': 'male'}), (7, {'gender': 'male'}), (8, {'gender': 'female'}), (9, {'gender': 'female'}), (10, {'gender': 'female'}), (11, {'gender': 'female'}), (12, {'gender': 'female'}), (13, {'gender': 'female'}), (14, {'gender': 'female'}), (15, {'gender': 'female'}), (16, {'gender': 'male'}), (17, {'gender': 'male'}), (18, {'gender': 'male'}), (19, {'gender': 'male'}), (20, {'gender': 'female'}), (21, {'gender': 'female'}), (22, {'gender': 'male'}), (23, {'gender': 'female'}), (24, {'gender': 'female'}), (25, {'gender': 'female'}), (26, {'gender': 'female'}), (27, {'gender': 'female'}), (28, {'gender': 'female'}), (29, {'gender': 'female'})])\n",
      "dict_items([(1, {'gender': 'male'}), (2, {'gender': 'male'}), (3, {'gender': 'male'}), (4, {'gender': 'male'}), (5, {'gender': 'male'}), (6, {'gender': 'male'}), (7, {'gender': 'male'}), (8, {'gender': 'female'}), (9, {'gender': 'female'}), (10, {'gender': 'female'}), (11, {'gender': 'female'}), (12, {'gender': 'female'}), (13, {'gender': 'female'}), (14, {'gender': 'female'}), (15, {'gender': 'female'}), (16, {'gender': 'male'}), (17, {'gender': 'male'}), (18, {'gender': 'male'}), (19, {'gender': 'male'}), (20, {'gender': 'female'}), (21, {'gender': 'female'}), (22, {'gender': 'male'}), (23, {'gender': 'female'}), (24, {'gender': 'female'}), (25, {'gender': 'female'}), (26, {'gender': 'female'}), (27, {'gender': 'female'}), (28, {'gender': 'female'}), (29, {'gender': 'female'})])\n",
      "dict_items([(1, {'gender': 'male'}), (2, {'gender': 'male'}), (3, {'gender': 'male'}), (4, {'gender': 'male'}), (5, {'gender': 'male'}), (6, {'gender': 'male'}), (7, {'gender': 'male'}), (8, {'gender': 'female'}), (9, {'gender': 'female'}), (10, {'gender': 'female'}), (11, {'gender': 'female'}), (12, {'gender': 'female'}), (13, {'gender': 'female'}), (14, {'gender': 'female'}), (15, {'gender': 'female'}), (16, {'gender': 'male'}), (17, {'gender': 'male'}), (18, {'gender': 'male'}), (19, {'gender': 'male'}), (20, {'gender': 'female'}), (21, {'gender': 'female'}), (22, {'gender': 'male'}), (23, {'gender': 'female'}), (24, {'gender': 'female'}), (25, {'gender': 'female'}), (26, {'gender': 'female'}), (27, {'gender': 'female'}), (28, {'gender': 'female'}), (29, {'gender': 'female'})])\n",
      "dict_items([(1, {'gender': 'male'}), (2, {'gender': 'male'}), (3, {'gender': 'male'}), (4, {'gender': 'male'}), (5, {'gender': 'male'}), (6, {'gender': 'male'}), (7, {'gender': 'male'}), (8, {'gender': 'female'}), (9, {'gender': 'female'}), (10, {'gender': 'female'}), (11, {'gender': 'female'}), (12, {'gender': 'female'}), (13, {'gender': 'female'}), (14, {'gender': 'female'}), (15, {'gender': 'female'}), (16, {'gender': 'male'}), (17, {'gender': 'male'}), (18, {'gender': 'male'}), (19, {'gender': 'male'}), (20, {'gender': 'female'}), (21, {'gender': 'female'}), (22, {'gender': 'male'}), (23, {'gender': 'female'}), (24, {'gender': 'female'}), (25, {'gender': 'female'}), (26, {'gender': 'female'}), (27, {'gender': 'female'}), (28, {'gender': 'female'}), (29, {'gender': 'female'})])\n",
      "dict_items([(1, {'gender': 'male'}), (2, {'gender': 'male'}), (3, {'gender': 'male'}), (4, {'gender': 'male'}), (5, {'gender': 'male'}), (6, {'gender': 'male'}), (7, {'gender': 'male'}), (8, {'gender': 'female'}), (9, {'gender': 'female'}), (10, {'gender': 'female'}), (11, {'gender': 'female'}), (12, {'gender': 'female'}), (13, {'gender': 'female'}), (14, {'gender': 'female'}), (15, {'gender': 'female'}), (16, {'gender': 'male'}), (17, {'gender': 'male'}), (18, {'gender': 'male'}), (19, {'gender': 'male'}), (20, {'gender': 'female'}), (21, {'gender': 'female'}), (22, {'gender': 'male'}), (23, {'gender': 'female'}), (24, {'gender': 'female'}), (25, {'gender': 'female'}), (26, {'gender': 'female'}), (27, {'gender': 'female'}), (28, {'gender': 'female'}), (29, {'gender': 'female'})])\n",
      "dict_items([(1, {'gender': 'male'}), (2, {'gender': 'male'}), (3, {'gender': 'male'}), (4, {'gender': 'male'}), (5, {'gender': 'male'}), (6, {'gender': 'male'}), (7, {'gender': 'male'}), (8, {'gender': 'female'}), (9, {'gender': 'female'}), (10, {'gender': 'female'}), (11, {'gender': 'female'}), (12, {'gender': 'female'}), (13, {'gender': 'female'}), (14, {'gender': 'female'}), (15, {'gender': 'female'}), (16, {'gender': 'male'}), (17, {'gender': 'male'}), (18, {'gender': 'male'}), (19, {'gender': 'male'}), (20, {'gender': 'female'}), (21, {'gender': 'female'}), (22, {'gender': 'male'}), (23, {'gender': 'female'}), (24, {'gender': 'female'}), (25, {'gender': 'female'}), (26, {'gender': 'female'}), (27, {'gender': 'female'}), (28, {'gender': 'female'}), (29, {'gender': 'female'})])\n",
      "dict_items([(1, {'gender': 'male'}), (2, {'gender': 'male'}), (3, {'gender': 'male'}), (4, {'gender': 'male'}), (5, {'gender': 'male'}), (6, {'gender': 'male'}), (7, {'gender': 'male'}), (8, {'gender': 'female'}), (9, {'gender': 'female'}), (10, {'gender': 'female'}), (11, {'gender': 'female'}), (12, {'gender': 'female'}), (13, {'gender': 'female'}), (14, {'gender': 'female'}), (15, {'gender': 'female'}), (16, {'gender': 'male'}), (17, {'gender': 'male'}), (18, {'gender': 'male'}), (19, {'gender': 'male'}), (20, {'gender': 'female'}), (21, {'gender': 'female'}), (22, {'gender': 'male'}), (23, {'gender': 'female'}), (24, {'gender': 'female'}), (25, {'gender': 'female'}), (26, {'gender': 'female'}), (27, {'gender': 'female'}), (28, {'gender': 'female'}), (29, {'gender': 'female'})])\n",
      "dict_items([(1, {'gender': 'male'}), (2, {'gender': 'male'}), (3, {'gender': 'male'}), (4, {'gender': 'male'}), (5, {'gender': 'male'}), (6, {'gender': 'male'}), (7, {'gender': 'male'}), (8, {'gender': 'female'}), (9, {'gender': 'female'}), (10, {'gender': 'female'}), (11, {'gender': 'female'}), (12, {'gender': 'female'}), (13, {'gender': 'female'}), (14, {'gender': 'female'}), (15, {'gender': 'female'}), (16, {'gender': 'male'}), (17, {'gender': 'male'}), (18, {'gender': 'male'}), (19, {'gender': 'male'}), (20, {'gender': 'female'}), (21, {'gender': 'female'}), (22, {'gender': 'male'}), (23, {'gender': 'female'}), (24, {'gender': 'female'}), (25, {'gender': 'female'}), (26, {'gender': 'female'}), (27, {'gender': 'female'}), (28, {'gender': 'female'}), (29, {'gender': 'female'})])\n",
      "dict_items([(1, {'gender': 'male'}), (2, {'gender': 'male'}), (3, {'gender': 'male'}), (4, {'gender': 'male'}), (5, {'gender': 'male'}), (6, {'gender': 'male'}), (7, {'gender': 'male'}), (8, {'gender': 'female'}), (9, {'gender': 'female'}), (10, {'gender': 'female'}), (11, {'gender': 'female'}), (12, {'gender': 'female'}), (13, {'gender': 'female'}), (14, {'gender': 'female'}), (15, {'gender': 'female'}), (16, {'gender': 'male'}), (17, {'gender': 'male'}), (18, {'gender': 'male'}), (19, {'gender': 'male'}), (20, {'gender': 'female'}), (21, {'gender': 'female'}), (22, {'gender': 'male'}), (23, {'gender': 'female'}), (24, {'gender': 'female'}), (25, {'gender': 'female'}), (26, {'gender': 'female'}), (27, {'gender': 'female'}), (28, {'gender': 'female'}), (29, {'gender': 'female'})])\n",
      "dict_items([(1, {'gender': 'male'}), (2, {'gender': 'male'}), (3, {'gender': 'male'}), (4, {'gender': 'male'}), (5, {'gender': 'male'}), (6, {'gender': 'male'}), (7, {'gender': 'male'}), (8, {'gender': 'female'}), (9, {'gender': 'female'}), (10, {'gender': 'female'}), (11, {'gender': 'female'}), (12, {'gender': 'female'}), (13, {'gender': 'female'}), (14, {'gender': 'female'}), (15, {'gender': 'female'}), (16, {'gender': 'male'}), (17, {'gender': 'male'}), (18, {'gender': 'male'}), (19, {'gender': 'male'}), (20, {'gender': 'female'}), (21, {'gender': 'female'}), (22, {'gender': 'male'}), (23, {'gender': 'female'}), (24, {'gender': 'female'}), (25, {'gender': 'female'}), (26, {'gender': 'female'}), (27, {'gender': 'female'}), (28, {'gender': 'female'}), (29, {'gender': 'female'})])\n",
      "dict_items([(1, {'gender': 'male'}), (2, {'gender': 'male'}), (3, {'gender': 'male'}), (4, {'gender': 'male'}), (5, {'gender': 'male'}), (6, {'gender': 'male'}), (7, {'gender': 'male'}), (8, {'gender': 'female'}), (9, {'gender': 'female'}), (10, {'gender': 'female'}), (11, {'gender': 'female'}), (12, {'gender': 'female'}), (13, {'gender': 'female'}), (14, {'gender': 'female'}), (15, {'gender': 'female'}), (16, {'gender': 'male'}), (17, {'gender': 'male'}), (18, {'gender': 'male'}), (19, {'gender': 'male'}), (20, {'gender': 'female'}), (21, {'gender': 'female'}), (22, {'gender': 'male'}), (23, {'gender': 'female'}), (24, {'gender': 'female'}), (25, {'gender': 'female'}), (26, {'gender': 'female'}), (27, {'gender': 'female'}), (28, {'gender': 'female'}), (29, {'gender': 'female'})])\n",
      "dict_items([(1, {'gender': 'male'}), (2, {'gender': 'male'}), (3, {'gender': 'male'}), (4, {'gender': 'male'}), (5, {'gender': 'male'}), (6, {'gender': 'male'}), (7, {'gender': 'male'}), (8, {'gender': 'female'}), (9, {'gender': 'female'}), (10, {'gender': 'female'}), (11, {'gender': 'female'}), (12, {'gender': 'female'}), (13, {'gender': 'female'}), (14, {'gender': 'female'}), (15, {'gender': 'female'}), (16, {'gender': 'male'}), (17, {'gender': 'male'}), (18, {'gender': 'male'}), (19, {'gender': 'male'}), (20, {'gender': 'female'}), (21, {'gender': 'female'}), (22, {'gender': 'male'}), (23, {'gender': 'female'}), (24, {'gender': 'female'}), (25, {'gender': 'female'}), (26, {'gender': 'female'}), (27, {'gender': 'female'}), (28, {'gender': 'female'}), (29, {'gender': 'female'})])\n",
      "dict_items([(1, {'gender': 'male'}), (2, {'gender': 'male'}), (3, {'gender': 'male'}), (4, {'gender': 'male'}), (5, {'gender': 'male'}), (6, {'gender': 'male'}), (7, {'gender': 'male'}), (8, {'gender': 'female'}), (9, {'gender': 'female'}), (10, {'gender': 'female'}), (11, {'gender': 'female'}), (12, {'gender': 'female'}), (13, {'gender': 'female'}), (14, {'gender': 'female'}), (15, {'gender': 'female'}), (16, {'gender': 'male'}), (17, {'gender': 'male'}), (18, {'gender': 'male'}), (19, {'gender': 'male'}), (20, {'gender': 'female'}), (21, {'gender': 'female'}), (22, {'gender': 'male'}), (23, {'gender': 'female'}), (24, {'gender': 'female'}), (25, {'gender': 'female'}), (26, {'gender': 'female'}), (27, {'gender': 'female'}), (28, {'gender': 'female'}), (29, {'gender': 'female'})])\n",
      "dict_items([(1, {'gender': 'male'}), (2, {'gender': 'male'}), (3, {'gender': 'male'}), (4, {'gender': 'male'}), (5, {'gender': 'male'}), (6, {'gender': 'male'}), (7, {'gender': 'male'}), (8, {'gender': 'female'}), (9, {'gender': 'female'}), (10, {'gender': 'female'}), (11, {'gender': 'female'}), (12, {'gender': 'female'}), (13, {'gender': 'female'}), (14, {'gender': 'female'}), (15, {'gender': 'female'}), (16, {'gender': 'male'}), (17, {'gender': 'male'}), (18, {'gender': 'male'}), (19, {'gender': 'male'}), (20, {'gender': 'female'}), (21, {'gender': 'female'}), (22, {'gender': 'male'}), (23, {'gender': 'female'}), (24, {'gender': 'female'}), (25, {'gender': 'female'}), (26, {'gender': 'female'}), (27, {'gender': 'female'}), (28, {'gender': 'female'}), (29, {'gender': 'female'})])\n",
      "dict_items([(1, {'gender': 'male'}), (2, {'gender': 'male'}), (3, {'gender': 'male'}), (4, {'gender': 'male'}), (5, {'gender': 'male'}), (6, {'gender': 'male'}), (7, {'gender': 'male'}), (8, {'gender': 'female'}), (9, {'gender': 'female'}), (10, {'gender': 'female'}), (11, {'gender': 'female'}), (12, {'gender': 'female'}), (13, {'gender': 'female'}), (14, {'gender': 'female'}), (15, {'gender': 'female'}), (16, {'gender': 'male'}), (17, {'gender': 'male'}), (18, {'gender': 'male'}), (19, {'gender': 'male'}), (20, {'gender': 'female'}), (21, {'gender': 'female'}), (22, {'gender': 'male'}), (23, {'gender': 'female'}), (24, {'gender': 'female'}), (25, {'gender': 'female'}), (26, {'gender': 'female'}), (27, {'gender': 'female'}), (28, {'gender': 'female'}), (29, {'gender': 'female'})])\n",
      "dict_items([(1, {'gender': 'male'}), (2, {'gender': 'male'}), (3, {'gender': 'male'}), (4, {'gender': 'male'}), (5, {'gender': 'male'}), (6, {'gender': 'male'}), (7, {'gender': 'male'}), (8, {'gender': 'female'}), (9, {'gender': 'female'}), (10, {'gender': 'female'}), (11, {'gender': 'female'}), (12, {'gender': 'female'}), (13, {'gender': 'female'}), (14, {'gender': 'female'}), (15, {'gender': 'female'}), (16, {'gender': 'male'}), (17, {'gender': 'male'}), (18, {'gender': 'male'}), (19, {'gender': 'male'}), (20, {'gender': 'female'}), (21, {'gender': 'female'}), (22, {'gender': 'male'}), (23, {'gender': 'female'}), (24, {'gender': 'female'}), (25, {'gender': 'female'}), (26, {'gender': 'female'}), (27, {'gender': 'female'}), (28, {'gender': 'female'}), (29, {'gender': 'female'})])\n",
      "dict_items([(1, {'gender': 'male'}), (2, {'gender': 'male'}), (3, {'gender': 'male'}), (4, {'gender': 'male'}), (5, {'gender': 'male'}), (6, {'gender': 'male'}), (7, {'gender': 'male'}), (8, {'gender': 'female'}), (9, {'gender': 'female'}), (10, {'gender': 'female'}), (11, {'gender': 'female'}), (12, {'gender': 'female'}), (13, {'gender': 'female'}), (14, {'gender': 'female'}), (15, {'gender': 'female'}), (16, {'gender': 'male'}), (17, {'gender': 'male'}), (18, {'gender': 'male'}), (19, {'gender': 'male'}), (20, {'gender': 'female'}), (21, {'gender': 'female'}), (22, {'gender': 'male'}), (23, {'gender': 'female'}), (24, {'gender': 'female'}), (25, {'gender': 'female'}), (26, {'gender': 'female'}), (27, {'gender': 'female'}), (28, {'gender': 'female'}), (29, {'gender': 'female'})])\n",
      "dict_items([(1, {'gender': 'male'}), (2, {'gender': 'male'}), (3, {'gender': 'male'}), (4, {'gender': 'male'}), (5, {'gender': 'male'}), (6, {'gender': 'male'}), (7, {'gender': 'male'}), (8, {'gender': 'female'}), (9, {'gender': 'female'}), (10, {'gender': 'female'}), (11, {'gender': 'female'}), (12, {'gender': 'female'}), (13, {'gender': 'female'}), (14, {'gender': 'female'}), (15, {'gender': 'female'}), (16, {'gender': 'male'}), (17, {'gender': 'male'}), (18, {'gender': 'male'}), (19, {'gender': 'male'}), (20, {'gender': 'female'}), (21, {'gender': 'female'}), (22, {'gender': 'male'}), (23, {'gender': 'female'}), (24, {'gender': 'female'}), (25, {'gender': 'female'}), (26, {'gender': 'female'}), (27, {'gender': 'female'}), (28, {'gender': 'female'}), (29, {'gender': 'female'})])\n",
      "dict_items([(1, {'gender': 'male'}), (2, {'gender': 'male'}), (3, {'gender': 'male'}), (4, {'gender': 'male'}), (5, {'gender': 'male'}), (6, {'gender': 'male'}), (7, {'gender': 'male'}), (8, {'gender': 'female'}), (9, {'gender': 'female'}), (10, {'gender': 'female'}), (11, {'gender': 'female'}), (12, {'gender': 'female'}), (13, {'gender': 'female'}), (14, {'gender': 'female'}), (15, {'gender': 'female'}), (16, {'gender': 'male'}), (17, {'gender': 'male'}), (18, {'gender': 'male'}), (19, {'gender': 'male'}), (20, {'gender': 'female'}), (21, {'gender': 'female'}), (22, {'gender': 'male'}), (23, {'gender': 'female'}), (24, {'gender': 'female'}), (25, {'gender': 'female'}), (26, {'gender': 'female'}), (27, {'gender': 'female'}), (28, {'gender': 'female'}), (29, {'gender': 'female'})])\n",
      "dict_items([(1, {'gender': 'male'}), (2, {'gender': 'male'}), (3, {'gender': 'male'}), (4, {'gender': 'male'}), (5, {'gender': 'male'}), (6, {'gender': 'male'}), (7, {'gender': 'male'}), (8, {'gender': 'female'}), (9, {'gender': 'female'}), (10, {'gender': 'female'}), (11, {'gender': 'female'}), (12, {'gender': 'female'}), (13, {'gender': 'female'}), (14, {'gender': 'female'}), (15, {'gender': 'female'}), (16, {'gender': 'male'}), (17, {'gender': 'male'}), (18, {'gender': 'male'}), (19, {'gender': 'male'}), (20, {'gender': 'female'}), (21, {'gender': 'female'}), (22, {'gender': 'male'}), (23, {'gender': 'female'}), (24, {'gender': 'female'}), (25, {'gender': 'female'}), (26, {'gender': 'female'}), (27, {'gender': 'female'}), (28, {'gender': 'female'}), (29, {'gender': 'female'})])\n",
      "dict_items([(1, {'gender': 'male'}), (2, {'gender': 'male'}), (3, {'gender': 'male'}), (4, {'gender': 'male'}), (5, {'gender': 'male'}), (6, {'gender': 'male'}), (7, {'gender': 'male'}), (8, {'gender': 'female'}), (9, {'gender': 'female'}), (10, {'gender': 'female'}), (11, {'gender': 'female'}), (12, {'gender': 'female'}), (13, {'gender': 'female'}), (14, {'gender': 'female'}), (15, {'gender': 'female'}), (16, {'gender': 'male'}), (17, {'gender': 'male'}), (18, {'gender': 'male'}), (19, {'gender': 'male'}), (20, {'gender': 'female'}), (21, {'gender': 'female'}), (22, {'gender': 'male'}), (23, {'gender': 'female'}), (24, {'gender': 'female'}), (25, {'gender': 'female'}), (26, {'gender': 'female'}), (27, {'gender': 'female'}), (28, {'gender': 'female'}), (29, {'gender': 'female'})])\n",
      "dict_items([(1, {'gender': 'male'}), (2, {'gender': 'male'}), (3, {'gender': 'male'}), (4, {'gender': 'male'}), (5, {'gender': 'male'}), (6, {'gender': 'male'}), (7, {'gender': 'male'}), (8, {'gender': 'female'}), (9, {'gender': 'female'}), (10, {'gender': 'female'}), (11, {'gender': 'female'}), (12, {'gender': 'female'}), (13, {'gender': 'female'}), (14, {'gender': 'female'}), (15, {'gender': 'female'}), (16, {'gender': 'male'}), (17, {'gender': 'male'}), (18, {'gender': 'male'}), (19, {'gender': 'male'}), (20, {'gender': 'female'}), (21, {'gender': 'female'}), (22, {'gender': 'male'}), (23, {'gender': 'female'}), (24, {'gender': 'female'}), (25, {'gender': 'female'}), (26, {'gender': 'female'}), (27, {'gender': 'female'}), (28, {'gender': 'female'}), (29, {'gender': 'female'})])\n",
      "dict_items([(1, {'gender': 'male'}), (2, {'gender': 'male'}), (3, {'gender': 'male'}), (4, {'gender': 'male'}), (5, {'gender': 'male'}), (6, {'gender': 'male'}), (7, {'gender': 'male'}), (8, {'gender': 'female'}), (9, {'gender': 'female'}), (10, {'gender': 'female'}), (11, {'gender': 'female'}), (12, {'gender': 'female'}), (13, {'gender': 'female'}), (14, {'gender': 'female'}), (15, {'gender': 'female'}), (16, {'gender': 'male'}), (17, {'gender': 'male'}), (18, {'gender': 'male'}), (19, {'gender': 'male'}), (20, {'gender': 'female'}), (21, {'gender': 'female'}), (22, {'gender': 'male'}), (23, {'gender': 'female'}), (24, {'gender': 'female'}), (25, {'gender': 'female'}), (26, {'gender': 'female'}), (27, {'gender': 'female'}), (28, {'gender': 'female'}), (29, {'gender': 'female'})])\n",
      "dict_items([(1, {'gender': 'male'}), (2, {'gender': 'male'}), (3, {'gender': 'male'}), (4, {'gender': 'male'}), (5, {'gender': 'male'}), (6, {'gender': 'male'}), (7, {'gender': 'male'}), (8, {'gender': 'female'}), (9, {'gender': 'female'}), (10, {'gender': 'female'}), (11, {'gender': 'female'}), (12, {'gender': 'female'}), (13, {'gender': 'female'}), (14, {'gender': 'female'}), (15, {'gender': 'female'}), (16, {'gender': 'male'}), (17, {'gender': 'male'}), (18, {'gender': 'male'}), (19, {'gender': 'male'}), (20, {'gender': 'female'}), (21, {'gender': 'female'}), (22, {'gender': 'male'}), (23, {'gender': 'female'}), (24, {'gender': 'female'}), (25, {'gender': 'female'}), (26, {'gender': 'female'}), (27, {'gender': 'female'}), (28, {'gender': 'female'}), (29, {'gender': 'female'})])\n",
      "dict_items([(1, {'gender': 'male'}), (2, {'gender': 'male'}), (3, {'gender': 'male'}), (4, {'gender': 'male'}), (5, {'gender': 'male'}), (6, {'gender': 'male'}), (7, {'gender': 'male'}), (8, {'gender': 'female'}), (9, {'gender': 'female'}), (10, {'gender': 'female'}), (11, {'gender': 'female'}), (12, {'gender': 'female'}), (13, {'gender': 'female'}), (14, {'gender': 'female'}), (15, {'gender': 'female'}), (16, {'gender': 'male'}), (17, {'gender': 'male'}), (18, {'gender': 'male'}), (19, {'gender': 'male'}), (20, {'gender': 'female'}), (21, {'gender': 'female'}), (22, {'gender': 'male'}), (23, {'gender': 'female'}), (24, {'gender': 'female'}), (25, {'gender': 'female'}), (26, {'gender': 'female'}), (27, {'gender': 'female'}), (28, {'gender': 'female'}), (29, {'gender': 'female'})])\n",
      "dict_items([(1, {'gender': 'male'}), (2, {'gender': 'male'}), (3, {'gender': 'male'}), (4, {'gender': 'male'}), (5, {'gender': 'male'}), (6, {'gender': 'male'}), (7, {'gender': 'male'}), (8, {'gender': 'female'}), (9, {'gender': 'female'}), (10, {'gender': 'female'}), (11, {'gender': 'female'}), (12, {'gender': 'female'}), (13, {'gender': 'female'}), (14, {'gender': 'female'}), (15, {'gender': 'female'}), (16, {'gender': 'male'}), (17, {'gender': 'male'}), (18, {'gender': 'male'}), (19, {'gender': 'male'}), (20, {'gender': 'female'}), (21, {'gender': 'female'}), (22, {'gender': 'male'}), (23, {'gender': 'female'}), (24, {'gender': 'female'}), (25, {'gender': 'female'}), (26, {'gender': 'female'}), (27, {'gender': 'female'}), (28, {'gender': 'female'}), (29, {'gender': 'female'})])\n"
     ]
    }
   ],
   "source": [
    "for n in G.nodes():\n",
    "    #del G.node[n]['gender']\n",
    "    print(G.node.items())"
   ]
  },
  {
   "cell_type": "code",
   "execution_count": 12,
   "metadata": {
    "collapsed": false
   },
   "outputs": [],
   "source": [
    "#G.nodes(data=True)"
   ]
  },
  {
   "cell_type": "code",
   "execution_count": 13,
   "metadata": {
    "collapsed": true
   },
   "outputs": [],
   "source": [
    "import decimal\n",
    "import random\n",
    "for n in G.nodes():\n",
    "    temp = round(random.uniform(0, 1), 3)\n",
    "    G.add_node(n,ViRt=temp)"
   ]
  },
  {
   "cell_type": "code",
   "execution_count": 14,
   "metadata": {
    "collapsed": false
   },
   "outputs": [
    {
     "data": {
      "text/plain": [
       "[(1, {'ViRt': 0.848, 'gender': 'male'}),\n",
       " (2, {'ViRt': 0.786, 'gender': 'male'}),\n",
       " (3, {'ViRt': 0.762, 'gender': 'male'}),\n",
       " (4, {'ViRt': 0.153, 'gender': 'male'}),\n",
       " (5, {'ViRt': 0.079, 'gender': 'male'}),\n",
       " (6, {'ViRt': 0.34, 'gender': 'male'}),\n",
       " (7, {'ViRt': 0.156, 'gender': 'male'}),\n",
       " (8, {'ViRt': 0.406, 'gender': 'female'}),\n",
       " (9, {'ViRt': 0.946, 'gender': 'female'}),\n",
       " (10, {'ViRt': 0.681, 'gender': 'female'}),\n",
       " (11, {'ViRt': 0.223, 'gender': 'female'}),\n",
       " (12, {'ViRt': 0.254, 'gender': 'female'}),\n",
       " (13, {'ViRt': 0.909, 'gender': 'female'}),\n",
       " (14, {'ViRt': 0.005, 'gender': 'female'}),\n",
       " (15, {'ViRt': 0.108, 'gender': 'female'}),\n",
       " (16, {'ViRt': 0.915, 'gender': 'male'}),\n",
       " (17, {'ViRt': 0.426, 'gender': 'male'}),\n",
       " (18, {'ViRt': 0.292, 'gender': 'male'}),\n",
       " (19, {'ViRt': 0.647, 'gender': 'male'}),\n",
       " (20, {'ViRt': 0.923, 'gender': 'female'}),\n",
       " (21, {'ViRt': 0.412, 'gender': 'female'}),\n",
       " (22, {'ViRt': 0.712, 'gender': 'male'}),\n",
       " (23, {'ViRt': 0.942, 'gender': 'female'}),\n",
       " (24, {'ViRt': 0.491, 'gender': 'female'}),\n",
       " (25, {'ViRt': 0.584, 'gender': 'female'}),\n",
       " (26, {'ViRt': 0.161, 'gender': 'female'}),\n",
       " (27, {'ViRt': 0.634, 'gender': 'female'}),\n",
       " (28, {'ViRt': 0.112, 'gender': 'female'}),\n",
       " (29, {'ViRt': 0.082, 'gender': 'female'})]"
      ]
     },
     "execution_count": 14,
     "metadata": {},
     "output_type": "execute_result"
    }
   ],
   "source": [
    "G.nodes(data=True)"
   ]
  },
  {
   "cell_type": "code",
   "execution_count": null,
   "metadata": {
    "collapsed": true
   },
   "outputs": [],
   "source": []
  }
 ],
 "metadata": {
  "kernelspec": {
   "display_name": "Python [conda root]",
   "language": "python",
   "name": "conda-root-py"
  },
  "language_info": {
   "codemirror_mode": {
    "name": "ipython",
    "version": 3
   },
   "file_extension": ".py",
   "mimetype": "text/x-python",
   "name": "python",
   "nbconvert_exporter": "python",
   "pygments_lexer": "ipython3",
   "version": "3.5.2"
  }
 },
 "nbformat": 4,
 "nbformat_minor": 1
}
