{
 "cells": [
  {
   "cell_type": "code",
   "execution_count": 1,
   "metadata": {
    "collapsed": true
   },
   "outputs": [],
   "source": [
    "import networkx as nx\n",
    "import matplotlib.pyplot as plt\n",
    "import numpy as np\n",
    "import warnings\n",
    "from custom import custom_funcs as cf\n",
    "from datetime import datetime\n",
    "\n",
    "warnings.filterwarnings('ignore')\n",
    "\n",
    "%load_ext autoreload\n",
    "%autoreload 2\n",
    "%matplotlib inline"
   ]
  },
  {
   "cell_type": "code",
   "execution_count": 6,
   "metadata": {
    "collapsed": true
   },
   "outputs": [],
   "source": [
    "G = cf.load_seventh_grader_network()"
   ]
  },
  {
   "cell_type": "code",
   "execution_count": 7,
   "metadata": {
    "collapsed": false
   },
   "outputs": [
    {
     "data": {
      "text/plain": [
       "[(1, {'gender': 'male'}),\n",
       " (2, {'gender': 'male'}),\n",
       " (3, {'gender': 'male'}),\n",
       " (4, {'gender': 'male'}),\n",
       " (5, {'gender': 'male'}),\n",
       " (6, {'gender': 'male'}),\n",
       " (7, {'gender': 'male'}),\n",
       " (8, {'gender': 'female'}),\n",
       " (9, {'gender': 'female'}),\n",
       " (10, {'gender': 'female'}),\n",
       " (11, {'gender': 'female'}),\n",
       " (12, {'gender': 'female'}),\n",
       " (13, {'gender': 'female'}),\n",
       " (14, {'gender': 'female'}),\n",
       " (15, {'gender': 'female'}),\n",
       " (16, {'gender': 'male'}),\n",
       " (17, {'gender': 'male'}),\n",
       " (18, {'gender': 'male'}),\n",
       " (19, {'gender': 'male'}),\n",
       " (20, {'gender': 'female'}),\n",
       " (21, {'gender': 'female'}),\n",
       " (22, {'gender': 'male'}),\n",
       " (23, {'gender': 'female'}),\n",
       " (24, {'gender': 'female'}),\n",
       " (25, {'gender': 'female'}),\n",
       " (26, {'gender': 'female'}),\n",
       " (27, {'gender': 'female'}),\n",
       " (28, {'gender': 'female'}),\n",
       " (29, {'gender': 'female'})]"
      ]
     },
     "execution_count": 7,
     "metadata": {},
     "output_type": "execute_result"
    }
   ],
   "source": [
    "G.nodes(data=True)"
   ]
  },
  {
   "cell_type": "code",
   "execution_count": 8,
   "metadata": {
    "collapsed": false
   },
   "outputs": [
    {
     "name": "stdout",
     "output_type": "stream",
     "text": [
      "29\n"
     ]
    }
   ],
   "source": [
    "print(len(G.nodes()))"
   ]
  },
  {
   "cell_type": "code",
   "execution_count": 5,
   "metadata": {
    "collapsed": false
   },
   "outputs": [
    {
     "data": {
      "text/plain": [
       "[(0, 10, {'date': datetime.datetime(2011, 6, 7, 0, 0)}),\n",
       " (0, 19, {'date': datetime.datetime(2011, 2, 12, 0, 0)}),\n",
       " (0, 12, {'date': datetime.datetime(2006, 8, 28, 0, 0)}),\n",
       " (1, 4, {'date': datetime.datetime(2009, 11, 8, 0, 0)}),\n",
       " (1, 2, {'date': datetime.datetime(2010, 8, 5, 0, 0)}),\n",
       " (1, 3, {'date': datetime.datetime(2005, 2, 3, 0, 0)}),\n",
       " (1, 12, {'date': datetime.datetime(2003, 3, 17, 0, 0)}),\n",
       " (1, 29, {'date': datetime.datetime(2005, 1, 15, 0, 0)}),\n",
       " (2, 16, {'date': datetime.datetime(2002, 5, 27, 0, 0)}),\n",
       " (2, 3, {'date': datetime.datetime(2009, 8, 13, 0, 0)}),\n",
       " (2, 6, {'date': datetime.datetime(2006, 1, 12, 0, 0)}),\n",
       " (2, 19, {'date': datetime.datetime(2010, 1, 6, 0, 0)}),\n",
       " (3, 8, {'date': datetime.datetime(2010, 6, 22, 0, 0)}),\n",
       " (3, 6, {'date': datetime.datetime(2009, 3, 20, 0, 0)}),\n",
       " (3, 23, {'date': datetime.datetime(2003, 11, 9, 0, 0)}),\n",
       " (4, 19, {'date': datetime.datetime(2007, 12, 4, 0, 0)}),\n",
       " (4, 28, {'date': datetime.datetime(2009, 5, 22, 0, 0)}),\n",
       " (6, 23, {'date': datetime.datetime(2011, 3, 4, 0, 0)}),\n",
       " (7, 24, {'date': datetime.datetime(2004, 9, 24, 0, 0)}),\n",
       " (7, 25, {'date': datetime.datetime(2009, 3, 21, 0, 0)}),\n",
       " (8, 17, {'date': datetime.datetime(2005, 11, 16, 0, 0)}),\n",
       " (8, 22, {'date': datetime.datetime(2010, 1, 22, 0, 0)}),\n",
       " (9, 24, {'date': datetime.datetime(2008, 12, 2, 0, 0)}),\n",
       " (9, 17, {'date': datetime.datetime(2009, 10, 11, 0, 0)}),\n",
       " (9, 11, {'date': datetime.datetime(2005, 4, 3, 0, 0)}),\n",
       " (10, 11, {'date': datetime.datetime(2005, 2, 6, 0, 0)}),\n",
       " (10, 21, {'date': datetime.datetime(2007, 1, 21, 0, 0)}),\n",
       " (11, 14, {'date': datetime.datetime(2010, 4, 28, 0, 0)}),\n",
       " (12, 19, {'date': datetime.datetime(2007, 12, 17, 0, 0)}),\n",
       " (12, 29, {'date': datetime.datetime(2008, 8, 27, 0, 0)}),\n",
       " (13, 16, {'date': datetime.datetime(2005, 5, 14, 0, 0)}),\n",
       " (13, 24, {'date': datetime.datetime(2006, 5, 7, 0, 0)}),\n",
       " (13, 14, {'date': datetime.datetime(2011, 3, 19, 0, 0)}),\n",
       " (14, 17, {'date': datetime.datetime(2008, 10, 17, 0, 0)}),\n",
       " (14, 25, {'date': datetime.datetime(2002, 6, 11, 0, 0)}),\n",
       " (15, 24, {'date': datetime.datetime(2007, 9, 2, 0, 0)}),\n",
       " (15, 28, {'date': datetime.datetime(2008, 3, 6, 0, 0)}),\n",
       " (16, 17, {'date': datetime.datetime(2002, 5, 20, 0, 0)}),\n",
       " (16, 19, {'date': datetime.datetime(2005, 8, 20, 0, 0)}),\n",
       " (17, 19, {'date': datetime.datetime(2006, 10, 13, 0, 0)}),\n",
       " (19, 22, {'date': datetime.datetime(2011, 11, 4, 0, 0)}),\n",
       " (19, 27, {'date': datetime.datetime(2009, 7, 27, 0, 0)}),\n",
       " (20, 27, {'date': datetime.datetime(2004, 1, 27, 0, 0)}),\n",
       " (20, 23, {'date': datetime.datetime(2007, 12, 3, 0, 0)}),\n",
       " (21, 27, {'date': datetime.datetime(2007, 2, 1, 0, 0)}),\n",
       " (21, 26, {'date': datetime.datetime(2006, 12, 14, 0, 0)}),\n",
       " (25, 28, {'date': datetime.datetime(2007, 2, 15, 0, 0)}),\n",
       " (26, 29, {'date': datetime.datetime(2006, 12, 19, 0, 0)})]"
      ]
     },
     "execution_count": 5,
     "metadata": {},
     "output_type": "execute_result"
    }
   ],
   "source": [
    "G.edges(data=True)"
   ]
  },
  {
   "cell_type": "code",
   "execution_count": 9,
   "metadata": {
    "collapsed": false
   },
   "outputs": [
    {
     "data": {
      "text/plain": [
       "{'gender': 'male'}"
      ]
     },
     "execution_count": 9,
     "metadata": {},
     "output_type": "execute_result"
    }
   ],
   "source": [
    "G.node[1]"
   ]
  },
  {
   "cell_type": "code",
   "execution_count": 10,
   "metadata": {
    "collapsed": false
   },
   "outputs": [
    {
     "data": {
      "text/plain": [
       "{'gender': 'female'}"
      ]
     },
     "execution_count": 10,
     "metadata": {},
     "output_type": "execute_result"
    }
   ],
   "source": [
    "G.node[21]"
   ]
  },
  {
   "cell_type": "code",
   "execution_count": 11,
   "metadata": {
    "collapsed": true
   },
   "outputs": [],
   "source": [
    "for n in G.nodes():\n",
    "    del G.node[n]"
   ]
  },
  {
   "cell_type": "code",
   "execution_count": 12,
   "metadata": {
    "collapsed": false
   },
   "outputs": [
    {
     "data": {
      "text/plain": [
       "[]"
      ]
     },
     "execution_count": 12,
     "metadata": {},
     "output_type": "execute_result"
    }
   ],
   "source": [
    "G.nodes(data=True)"
   ]
  },
  {
   "cell_type": "code",
   "execution_count": null,
   "metadata": {
    "collapsed": true
   },
   "outputs": [],
   "source": []
  }
 ],
 "metadata": {
  "kernelspec": {
   "display_name": "Python [conda root]",
   "language": "python",
   "name": "conda-root-py"
  },
  "language_info": {
   "codemirror_mode": {
    "name": "ipython",
    "version": 3
   },
   "file_extension": ".py",
   "mimetype": "text/x-python",
   "name": "python",
   "nbconvert_exporter": "python",
   "pygments_lexer": "ipython3",
   "version": "3.5.2"
  }
 },
 "nbformat": 4,
 "nbformat_minor": 1
}
